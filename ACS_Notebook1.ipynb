{
 "cells": [
  {
   "cell_type": "code",
   "execution_count": 5,
   "id": "00ca8b1f-77fa-4a73-bebb-0a207d9c02c3",
   "metadata": {
    "execution": {
     "iopub.execute_input": "2023-09-30T01:50:20.386187Z",
     "iopub.status.busy": "2023-09-30T01:50:20.385460Z",
     "iopub.status.idle": "2023-09-30T01:50:20.495412Z",
     "shell.execute_reply": "2023-09-30T01:50:20.494310Z",
     "shell.execute_reply.started": "2023-09-30T01:50:20.386119Z"
    },
    "tags": []
   },
   "outputs": [],
   "source": [
    "# We import necessary libraries here\n",
    "import numpy as np\n",
    "import random\n",
    "import math\n",
    "import itertools"
   ]
  },
  {
   "cell_type": "code",
   "execution_count": 6,
   "id": "2e4f8929-af41-4f93-839d-eae481b13304",
   "metadata": {
    "execution": {
     "iopub.execute_input": "2023-09-30T04:16:47.170911Z",
     "iopub.status.busy": "2023-09-30T04:16:47.170171Z",
     "iopub.status.idle": "2023-09-30T04:16:47.186502Z",
     "shell.execute_reply": "2023-09-30T04:16:47.183859Z",
     "shell.execute_reply.started": "2023-09-30T04:16:47.170845Z"
    },
    "tags": []
   },
   "outputs": [
    {
     "name": "stdout",
     "output_type": "stream",
     "text": [
      "Combinations: [(8, 9, 10)]\n",
      "Permutations: [(8, 9), (8, 10), (9, 8), (9, 10), (10, 8), (10, 9)]\n"
     ]
    }
   ],
   "source": [
    "# Generate all permutations and combinations\n",
    "elements = [8, 9, 10]\n",
    "r = 2  # Number of elements to choose for permutations\n",
    "k = 3  # Number of elements to choose for combinations\n",
    "\n",
    "#Generate combinations\n",
    "combinations = list(itertools.combinations(elements, k))\n",
    "print(\"Combinations:\", combinations)\n",
    "\n",
    "#Generate permutations\n",
    "permutations = list(itertools.permutations(elements, r))\n",
    "print(\"Permutations:\", permutations)"
   ]
  },
  {
   "cell_type": "code",
   "execution_count": 7,
   "id": "95f9aa09-9254-4c97-b399-dc6a48f21ddb",
   "metadata": {
    "execution": {
     "iopub.execute_input": "2023-09-30T04:24:00.683395Z",
     "iopub.status.busy": "2023-09-30T04:24:00.682451Z",
     "iopub.status.idle": "2023-09-30T04:24:00.696477Z",
     "shell.execute_reply": "2023-09-30T04:24:00.694985Z",
     "shell.execute_reply.started": "2023-09-30T04:24:00.683306Z"
    },
    "tags": []
   },
   "outputs": [
    {
     "name": "stdout",
     "output_type": "stream",
     "text": [
      "Combination of 42 taken 6 : 5245786\n",
      "Permutation of 42 taken 6 : 3776965920\n"
     ]
    }
   ],
   "source": [
    "#Compute for the number of combinations and permutations\n",
    "\n",
    "n = 42  # Total number of items\n",
    "k = 6   # Number of items to choose\n",
    "\n",
    "combination = math.comb(n, k)\n",
    "permutation = math.perm(n, k)\n",
    "print(\"Combination of\", n, \"taken\", k,\":\", combination)\n",
    "print(\"Permutation of\", n, \"taken\", k,\":\", permutation)"
   ]
  },
  {
   "cell_type": "code",
   "execution_count": 8,
   "id": "4fcc649c-0004-4bde-b3fa-79f1e4d575ed",
   "metadata": {
    "execution": {
     "iopub.execute_input": "2023-09-30T04:39:50.849989Z",
     "iopub.status.busy": "2023-09-30T04:39:50.849263Z",
     "iopub.status.idle": "2023-09-30T04:39:50.870376Z",
     "shell.execute_reply": "2023-09-30T04:39:50.868592Z",
     "shell.execute_reply.started": "2023-09-30T04:39:50.849927Z"
    },
    "tags": []
   },
   "outputs": [
    {
     "name": "stdout",
     "output_type": "stream",
     "text": [
      "[('Club', 6), ('Club', 5), ('Heart', 3), ('Heart', 1), ('Heart', 10)]\n"
     ]
    }
   ],
   "source": [
    "#Shuffling a deck of cards and dealing the first poker hand\n",
    "deck_of_cards =[('Heart', 0),\n",
    " ('Heart', 1),\n",
    " ('Heart', 2),\n",
    " ('Heart', 3),\n",
    " ('Heart', 4),\n",
    " ('Heart', 5),\n",
    " ('Heart', 6),\n",
    " ('Heart', 7),\n",
    " ('Heart', 8),\n",
    " ('Heart', 9),\n",
    " ('Heart', 10),\n",
    " ('Heart', 11),\n",
    " ('Heart', 12),\n",
    " ('Club', 0),\n",
    " ('Club', 1),\n",
    " ('Club', 2),\n",
    " ('Club', 3),\n",
    " ('Club', 4),\n",
    " ('Club', 5),\n",
    " ('Club', 6),\n",
    " ('Club', 7),\n",
    " ('Club', 8),\n",
    " ('Club', 9),\n",
    " ('Club', 10),\n",
    " ('Club', 11),\n",
    " ('Club', 12),\n",
    " ('Spade', 0),\n",
    " ('Spade', 1),\n",
    " ('Spade', 2),\n",
    " ('Spade', 3),\n",
    " ('Spade', 4),\n",
    " ('Spade', 5),\n",
    " ('Spade', 6),\n",
    " ('Spade', 7),\n",
    " ('Spade', 8),\n",
    " ('Spade', 9),\n",
    " ('Spade', 10),\n",
    " ('Spade', 11),\n",
    " ('Spade', 12),\n",
    " ('Diamond', 0),\n",
    " ('Diamond', 1),\n",
    " ('Diamond', 2),\n",
    " ('Diamond', 3),\n",
    " ('Diamond', 4),\n",
    " ('Diamond', 5),\n",
    " ('Diamond', 6),\n",
    " ('Diamond', 7),\n",
    " ('Diamond', 8),\n",
    " ('Diamond', 9),\n",
    " ('Diamond', 10),\n",
    " ('Diamond', 11),\n",
    " ('Diamond', 12)]\n",
    "# Shuffle the deck\n",
    "np.random.shuffle(deck_of_cards)\n",
    "\n",
    "# Print out the top five cards\n",
    "card_choices_after_shuffle = deck_of_cards[0:5]\n",
    "print(card_choices_after_shuffle)\n"
   ]
  },
  {
   "cell_type": "code",
   "execution_count": null,
   "id": "9f93c6b3-e709-4851-8d54-3bfaf11d2b15",
   "metadata": {},
   "outputs": [],
   "source": []
  }
 ],
 "metadata": {
  "kernelspec": {
   "display_name": "Python 3 (ipykernel)",
   "language": "python",
   "name": "python3"
  },
  "language_info": {
   "codemirror_mode": {
    "name": "ipython",
    "version": 3
   },
   "file_extension": ".py",
   "mimetype": "text/x-python",
   "name": "python",
   "nbconvert_exporter": "python",
   "pygments_lexer": "ipython3",
   "version": "3.10.11"
  }
 },
 "nbformat": 4,
 "nbformat_minor": 5
}
